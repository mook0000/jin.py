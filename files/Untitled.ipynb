{
 "cells": [
  {
   "cell_type": "code",
   "execution_count": 2,
   "metadata": {},
   "outputs": [],
   "source": [
    "import os, os.path\n",
    "import win32com.client\n",
    "\n",
    "if os.path.exists(\"sheet_test.xlsm\"):\n",
    "    xl=win32com.client.Dispatch(\"Excel.Application\")\n",
    "    xl.Workbooks.Open(os.path.abspath(\"sheet_test.xlsm\"), ReadOnly=1)\n",
    "    xl.Application.Run(\"sheet_test.xlsm!Module1.test\")\n",
    "##    xl.Application.Save() # if you want to save then uncomment this line and change delete the \", ReadOnly=1\" part from the open function.\n",
    "    xl.Application.Quit() # Comment this out if your excel script closes\n",
    "    del xl"
   ]
  },
  {
   "cell_type": "code",
   "execution_count": null,
   "metadata": {},
   "outputs": [],
   "source": []
  }
 ],
 "metadata": {
  "kernelspec": {
   "display_name": "Python 3",
   "language": "python",
   "name": "python3"
  },
  "language_info": {
   "codemirror_mode": {
    "name": "ipython",
    "version": 3
   },
   "file_extension": ".py",
   "mimetype": "text/x-python",
   "name": "python",
   "nbconvert_exporter": "python",
   "pygments_lexer": "ipython3",
   "version": "3.8.3"
  }
 },
 "nbformat": 4,
 "nbformat_minor": 4
}
